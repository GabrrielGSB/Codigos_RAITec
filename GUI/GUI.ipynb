{
 "cells": [
  {
   "cell_type": "code",
   "execution_count": null,
   "metadata": {},
   "outputs": [],
   "source": [
    "import sys\n",
    "from PyQt5.QtWidgets import QApplication, QWidget, QPushButton, QMainWindow\n",
    "from PyQt5.QtCore import QSize, Qt\n",
    "\n",
    "\n",
    "class Janela(QMainWindow):\n",
    "    def __init__(self):\n",
    "        super().__init__()\n",
    "\n",
    "        self.estadoBotao = False\n",
    "\n",
    "        self.setWindowTitle(\"My App\")\n",
    "\n",
    "        self.button = QPushButton(\"Press Me!\") \n",
    "        self.button.clicked.connect(self.the_button_was_clicked)\n",
    "\n",
    "        self.setCentralWidget(self.button)\n",
    "\n",
    "    def the_button_was_clicked(self):\n",
    "        self.button.setText(\"You already clicked me.\") \n",
    "        self.setWindowTitle(\"A new window title\")\n",
    "        self.button.setEnabled(False) \n",
    "\n",
    "    def the_button_was_toggled(self, checked):\n",
    "        print(\"Checked?\", checked)\n",
    "\n",
    "    def the_button_was_released(self):\n",
    "        self.estadoBotao = self.button.isChecked() \n",
    "        print(self.estadoBotao)\n",
    "\n",
    "\n",
    "app = QApplication(sys.argv)\n",
    "window = Janela()\n",
    "window.show() \n",
    "app.exec_()\n"
   ]
  }
 ],
 "metadata": {
  "language_info": {
   "name": "python"
  }
 },
 "nbformat": 4,
 "nbformat_minor": 2
}
